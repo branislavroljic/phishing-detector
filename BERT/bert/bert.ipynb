{
  "cells": [
    {
      "cell_type": "code",
      "execution_count": 11,
      "metadata": {
        "colab": {
          "base_uri": "https://localhost:8080/"
        },
        "id": "ahzYEgevkwH4",
        "outputId": "1b17473a-c98b-48bb-fff4-50574f9728c7"
      },
      "outputs": [
        {
          "data": {
            "text/plain": [
              "True"
            ]
          },
          "execution_count": 11,
          "metadata": {},
          "output_type": "execute_result"
        }
      ],
      "source": [
        "import torch\n",
        "import pandas as pd\n",
        "from transformers import BertTokenizer\n",
        "from sklearn.model_selection import train_test_split\n",
        "from torch.utils.data import TensorDataset\n",
        "from torch.utils.data import DataLoader\n",
        "from transformers import BertForSequenceClassification, AdamW, get_scheduler\n",
        "from tqdm.auto import tqdm\n",
        "from sklearn.metrics import (\n",
        "    accuracy_score,\n",
        "    precision_score,\n",
        "    recall_score,\n",
        "    f1_score,\n",
        "    roc_auc_score,\n",
        "    confusion_matrix\n",
        ")\n",
        "from tabulate import tabulate\n",
        "import matplotlib.pyplot as plt\n",
        "\n",
        "\n",
        "torch.cuda.is_available()"
      ]
    },
    {
      "cell_type": "code",
      "execution_count": 13,
      "metadata": {
        "id": "0tygnHWslhWV"
      },
      "outputs": [],
      "source": [
        "#!pip install transformers"
      ]
    },
    {
      "cell_type": "markdown",
      "metadata": {
        "id": "gv_qs-5oyQKl"
      },
      "source": [
        "Ucitavanje podataka"
      ]
    },
    {
      "cell_type": "code",
      "execution_count": 14,
      "metadata": {
        "colab": {
          "base_uri": "https://localhost:8080/"
        },
        "id": "RP1-lpB0pQKG",
        "outputId": "09835c1e-4a56-454f-8438-c6b42aa7b9ec"
      },
      "outputs": [
        {
          "data": {
            "text/plain": [
              "(11448, 3)"
            ]
          },
          "execution_count": 14,
          "metadata": {},
          "output_type": "execute_result"
        }
      ],
      "source": [
        "df = pd.read_csv(\"../../data/preprocessed_sub_and_body.csv\")\n",
        "df[\"text\"] = df[\"text\"].astype(str)\n",
        "df[\"label\"] = df[\"label\"].astype(int)\n",
        "df.shape"
      ]
    },
    {
      "cell_type": "markdown",
      "metadata": {
        "id": "2e_tsdYTyQKm"
      },
      "source": [
        "Podjela skupa podataka na trening, validacione i test podatke"
      ]
    },
    {
      "cell_type": "code",
      "execution_count": 15,
      "metadata": {
        "id": "enrdNrq9A2Ye"
      },
      "outputs": [],
      "source": [
        "X_train_val, X_test, y_train_val, y_test = train_test_split(\n",
        "    df[\"text\"], df[\"label\"], stratify=df[\"label\"], random_state=42, test_size=0.2\n",
        ")\n",
        "\n",
        "X_train, X_val, y_train, y_val = train_test_split(\n",
        "    X_train_val, y_train_val, random_state=42, test_size=0.2\n",
        ")"
      ]
    },
    {
      "cell_type": "markdown",
      "metadata": {
        "id": "4q6kMoK-yQKm"
      },
      "source": [
        "### Tokenzacija skupa podataka\n",
        "Za maksimalnu dužinu stavljamo maksimalnih 512, s obzirom na to da je prosječna dužina rečenice veća od 512 karaktera. \n",
        "\n",
        "U slučajevima kada je dužina rečenice manja od 512 vršiće se *padding*. \n",
        "\n",
        "*Attention mask* omogućava razlikovanje *padding* i *non-padding* tokena"
      ]
    },
    {
      "cell_type": "code",
      "execution_count": 16,
      "metadata": {
        "colab": {
          "base_uri": "https://localhost:8080/"
        },
        "id": "aQSd-K6Wy3Cw",
        "outputId": "5379c6e6-77ab-4c74-8f63-ae328c949646"
      },
      "outputs": [
        {
          "name": "stderr",
          "output_type": "stream",
          "text": [
            "/usr/local/lib/python3.10/dist-packages/transformers/tokenization_utils_base.py:1601: FutureWarning: `clean_up_tokenization_spaces` was not set. It will be set to `True` by default. This behavior will be depracted in transformers v4.45, and will be then set to `False` by default. For more details check this issue: https://github.com/huggingface/transformers/issues/31884\n",
            "  warnings.warn(\n"
          ]
        }
      ],
      "source": [
        "# tokenization\n",
        "tokenizer = BertTokenizer.from_pretrained(\"bert-base-uncased\")"
      ]
    },
    {
      "cell_type": "markdown",
      "metadata": {
        "id": "diX1Wy2VyQKn"
      },
      "source": [
        "*batch_encode*  omogućava tokenizaciju i enkodovanje svih poruka odjednom. Ovo je efikasnije i praktičnije u poređenju sa pozivanjem enkodovanja pojedinačno za svaku poruku"
      ]
    },
    {
      "cell_type": "code",
      "execution_count": 17,
      "metadata": {
        "id": "ZAY_wObTy5hq"
      },
      "outputs": [],
      "source": [
        "def encode_data(input_text):\n",
        "    # use batch_encode_plus to include attention masks\n",
        "    tokens = tokenizer.batch_encode_plus(\n",
        "        input_text,\n",
        "        add_special_tokens=True,  # adding [CLS] and [SEP] tokens\n",
        "        truncation=True,\n",
        "        max_length=512,\n",
        "        padding=True,\n",
        "        return_attention_mask=True,\n",
        "        return_tensors=\"pt\",\n",
        "    )\n",
        "\n",
        "    return tokens[\"input_ids\"], tokens[\"attention_mask\"]\n",
        "\n",
        "\n",
        "train_input_ids, train_attention_masks = encode_data(list(X_train))\n",
        "val_input_ids, val_attention_masks = encode_data(list(X_val))\n",
        "\n",
        "# convert labels to PyTorch tensors\n",
        "train_labels = torch.tensor(y_train.values, dtype=torch.float32)\n",
        "val_labels = torch.tensor(y_val.values, dtype=torch.float32)\n",
        "\n",
        "train_dataset = TensorDataset(train_input_ids, train_attention_masks, train_labels)\n",
        "val_dataset = TensorDataset(val_input_ids, val_attention_masks, val_labels)"
      ]
    },
    {
      "cell_type": "markdown",
      "metadata": {
        "id": "nS2vBUYog5uY"
      },
      "source": [
        "Koristićemo BertForSequenceClassification, što je u suštini standardni BERT model sa dodatnim linearnim slojem dizajniranim za klasifikaciju. Ova konfiguracija nam omogućava da koristimo BERT kao klasifikator teksta. Tokom obuke, i pretrenirai BERT model i novododati,  klasifikacioni sloj će biti *fine-tune*-ovan za klasifikaciju *phishing*-a.\n",
        "\n",
        "Za optimizaciju ćemo koristiti AdamW optimizer sa *learning-rate*-om postavljenim na 2e−5.\n",
        "\n",
        "Za loss funkciju je odabrana CrossEntropyLoss\n",
        "\n",
        "Za *fine-tuning* biramo sljedeće hiperparametre:\n",
        "\n",
        "- Batch size: 16 (Batch size 32 nije moguć zbog ograničenih resursa)\n",
        "- Learning rate: 2e-5\n",
        "- Epochs: 4\n"
      ]
    },
    {
      "cell_type": "markdown",
      "metadata": {
        "id": "Whm9ArHByQKq"
      },
      "source": [
        "Kreiramo iterator za naš skup podataka koristeći klasu DataLoader"
      ]
    },
    {
      "cell_type": "code",
      "execution_count": 18,
      "metadata": {
        "id": "Ca6gBl6mf1Pd"
      },
      "outputs": [],
      "source": [
        "batch_size = 16\n",
        "num_epochs = 4\n",
        "lr=2e-5\n",
        "\n",
        "train_loader = DataLoader(train_dataset, shuffle=True, batch_size=batch_size)\n",
        "\n",
        "# read val data sequentally\n",
        "validation_loader = DataLoader(val_dataset, shuffle=False, batch_size=batch_size)"
      ]
    },
    {
      "cell_type": "markdown",
      "metadata": {
        "id": "u9u4xmzpyQKr"
      },
      "source": [
        "Koristimo linearni *learning rate scheduler* koji postepeno smanjuje brzinu ucenja od pocetne vrijednosti do nule"
      ]
    },
    {
      "cell_type": "code",
      "execution_count": 19,
      "metadata": {
        "colab": {
          "base_uri": "https://localhost:8080/"
        },
        "id": "LOFKVLingEaK",
        "outputId": "655754d2-ec6e-4964-96f2-278d4f65d331"
      },
      "outputs": [
        {
          "name": "stderr",
          "output_type": "stream",
          "text": [
            "Some weights of BertForSequenceClassification were not initialized from the model checkpoint at bert-base-uncased and are newly initialized: ['classifier.bias', 'classifier.weight']\n",
            "You should probably TRAIN this model on a down-stream task to be able to use it for predictions and inference.\n",
            "/usr/local/lib/python3.10/dist-packages/transformers/optimization.py:591: FutureWarning: This implementation of AdamW is deprecated and will be removed in a future version. Use the PyTorch implementation torch.optim.AdamW instead, or set `no_deprecation_warning=True` to disable this warning\n",
            "  warnings.warn(\n"
          ]
        }
      ],
      "source": [
        "bert_model = BertForSequenceClassification.from_pretrained(\n",
        "    \"bert-base-uncased\",  # only lowercase letters\n",
        "    num_labels=2,  # binary classification\n",
        ")\n",
        "\n",
        "optimizer = AdamW(bert_model.parameters(), lr=lr)\n",
        "loss_fn = torch.nn.CrossEntropyLoss()\n",
        "\n",
        "# number of training steps = [number of batches] x [number of epochs].\n",
        "num_training_steps = len(train_loader) * num_epochs\n",
        "\n",
        "# create the learning rate scheduler\n",
        "lr_scheduler = get_scheduler(\n",
        "    name=\"linear\",\n",
        "    optimizer=optimizer,\n",
        "    num_warmup_steps=0,\n",
        "    num_training_steps=num_training_steps,\n",
        ")"
      ]
    },
    {
      "cell_type": "code",
      "execution_count": 20,
      "metadata": {
        "colab": {
          "base_uri": "https://localhost:8080/"
        },
        "id": "OzsuW-cBouHi",
        "outputId": "d1929e15-9cc9-4023-ba0a-302c197f9cf2"
      },
      "outputs": [
        {
          "data": {
            "text/plain": [
              "BertForSequenceClassification(\n",
              "  (bert): BertModel(\n",
              "    (embeddings): BertEmbeddings(\n",
              "      (word_embeddings): Embedding(30522, 768, padding_idx=0)\n",
              "      (position_embeddings): Embedding(512, 768)\n",
              "      (token_type_embeddings): Embedding(2, 768)\n",
              "      (LayerNorm): LayerNorm((768,), eps=1e-12, elementwise_affine=True)\n",
              "      (dropout): Dropout(p=0.1, inplace=False)\n",
              "    )\n",
              "    (encoder): BertEncoder(\n",
              "      (layer): ModuleList(\n",
              "        (0-11): 12 x BertLayer(\n",
              "          (attention): BertAttention(\n",
              "            (self): BertSdpaSelfAttention(\n",
              "              (query): Linear(in_features=768, out_features=768, bias=True)\n",
              "              (key): Linear(in_features=768, out_features=768, bias=True)\n",
              "              (value): Linear(in_features=768, out_features=768, bias=True)\n",
              "              (dropout): Dropout(p=0.1, inplace=False)\n",
              "            )\n",
              "            (output): BertSelfOutput(\n",
              "              (dense): Linear(in_features=768, out_features=768, bias=True)\n",
              "              (LayerNorm): LayerNorm((768,), eps=1e-12, elementwise_affine=True)\n",
              "              (dropout): Dropout(p=0.1, inplace=False)\n",
              "            )\n",
              "          )\n",
              "          (intermediate): BertIntermediate(\n",
              "            (dense): Linear(in_features=768, out_features=3072, bias=True)\n",
              "            (intermediate_act_fn): GELUActivation()\n",
              "          )\n",
              "          (output): BertOutput(\n",
              "            (dense): Linear(in_features=3072, out_features=768, bias=True)\n",
              "            (LayerNorm): LayerNorm((768,), eps=1e-12, elementwise_affine=True)\n",
              "            (dropout): Dropout(p=0.1, inplace=False)\n",
              "          )\n",
              "        )\n",
              "      )\n",
              "    )\n",
              "    (pooler): BertPooler(\n",
              "      (dense): Linear(in_features=768, out_features=768, bias=True)\n",
              "      (activation): Tanh()\n",
              "    )\n",
              "  )\n",
              "  (dropout): Dropout(p=0.1, inplace=False)\n",
              "  (classifier): Linear(in_features=768, out_features=2, bias=True)\n",
              ")"
            ]
          },
          "execution_count": 20,
          "metadata": {},
          "output_type": "execute_result"
        }
      ],
      "source": [
        "device = torch.device(\"cuda\") if torch.cuda.is_available() else torch.device(\"cpu\")\n",
        "\n",
        "bert_model.to(device)"
      ]
    },
    {
      "cell_type": "code",
      "execution_count": 21,
      "metadata": {
        "colab": {
          "base_uri": "https://localhost:8080/",
          "height": 797,
          "referenced_widgets": [
            "cff5022f37564c90abe36f8dccd08c38",
            "750cfd868a6240ee8076c6b8bb155e86",
            "82b0e1005f764d35ab57a834abf1326b",
            "29d6ebfe33de4c789e5874dad39c14e7",
            "a2c82c62e8dd4f67a9c97da1f8a4b1c4",
            "69124d421abc441d8c1bfc79569a96e9",
            "1d90506cf2ff4c158899a8b354dd423f",
            "ec3895aef69d497e93f5881956a899cc",
            "95504bf8aba14b4a87bdbb920eb941fe",
            "dcde6bae02f7449eb248035d10cb12ff",
            "a224bc6774314b1297b6cf360cb161f2"
          ]
        },
        "id": "WP85fQLYpfTd",
        "outputId": "087a0c5f-f819-4db6-9493-7c3e714657d0"
      },
      "outputs": [
        {
          "data": {
            "application/vnd.jupyter.widget-view+json": {
              "model_id": "cff5022f37564c90abe36f8dccd08c38",
              "version_major": 2,
              "version_minor": 0
            },
            "text/plain": [
              "  0%|          | 0/1832 [00:00<?, ?it/s]"
            ]
          },
          "metadata": {},
          "output_type": "display_data"
        },
        {
          "name": "stdout",
          "output_type": "stream",
          "text": [
            " Epoch 1 / 4\n",
            "\n",
            "Training epoch 1 loss:  0.20576889901198284\n",
            "\n",
            "Validation epoch 1 loss: 0.10478777597941782\n",
            "Accuracy: 0.9645196506550219\n",
            "Precision: 0.9666666666666667\n",
            "Recall: 0.9635584137191854\n",
            "F1 Score: 0.9651100375738056\n",
            "ROC-AUC: 0.964537827549248\n",
            " Epoch 2 / 4\n",
            "\n",
            "Training epoch 2 loss:  0.0741109623589988\n",
            "\n",
            "Validation epoch 2 loss: 0.09343947892725143\n",
            "Accuracy: 0.9645196506550219\n",
            "Precision: 0.9597457627118644\n",
            "Recall: 0.9710610932475884\n",
            "F1 Score: 0.9653702717101759\n",
            "ROC-AUC: 0.9643959526304684\n",
            " Epoch 3 / 4\n",
            "\n",
            "Training epoch 3 loss:  0.02598910796299463\n",
            "\n",
            "Validation epoch 3 loss: 0.13737880133102526\n",
            "Accuracy: 0.9596069868995634\n",
            "Precision: 0.9387129724208376\n",
            "Recall: 0.984994640943194\n",
            "F1 Score: 0.9612970711297071\n",
            "ROC-AUC: 0.9591269089031876\n",
            " Epoch 4 / 4\n",
            "\n",
            "Training epoch 4 loss:  0.01227386749459341\n",
            "\n",
            "Validation epoch 4 loss: 0.1263627533365608\n",
            "Accuracy: 0.9634279475982532\n",
            "Precision: 0.9510416666666667\n",
            "Recall: 0.9785637727759914\n",
            "F1 Score: 0.9646064447966191\n",
            "ROC-AUC: 0.9631417306594084\n",
            "Training complete!\n"
          ]
        }
      ],
      "source": [
        "progress_bar = tqdm(range(num_training_steps))  # proress bar\n",
        "\n",
        "# initialize lists to store metrics\n",
        "train_losses = []\n",
        "val_losses = []\n",
        "val_accuracies = []\n",
        "val_precisions = []\n",
        "val_recalls = []\n",
        "val_f1_scores = []\n",
        "val_roc_aucs = []\n",
        "\n",
        "for epoch in range(num_epochs):\n",
        "    print(\" Epoch {:} / {:}\".format(epoch + 1, num_epochs))\n",
        "    # reset the total loss for each epoch\n",
        "    total_train_loss = 0\n",
        "\n",
        "    # put the model into training mode\n",
        "    bert_model.train()\n",
        "\n",
        "\n",
        "    #https://github.com/huggingface/transformers/blob/5bfcd0485ece086ebcbed2d008813037968a9e58/examples/run_glue.py#L128\n",
        "\n",
        "    for i, batch in enumerate(train_loader):\n",
        "        (b_input_ids, b_input_mask, b_labels) = tuple(\n",
        "            t.to(device) for t in batch\n",
        "        )  # send tesors to gpu\n",
        "\n",
        "        # ensure labels are of type LongTensor\n",
        "        b_labels = b_labels.long()\n",
        "\n",
        "        # setting the gradients to zero, cuz PyTorch doesn't do this automatically\n",
        "        # https://stackoverflow.com/questions/48001598/why-do-we-need-to-call-zero-grad-in-pytorch\n",
        "        optimizer.zero_grad()\n",
        "\n",
        "        # forward pass\n",
        "        outputs = bert_model(b_input_ids, attention_mask=b_input_mask)\n",
        "\n",
        "        pred = outputs.logits\n",
        "        loss = loss_fn(pred, b_labels)\n",
        "\n",
        "        total_train_loss += loss.item()  # accumulate loss over all batches\n",
        "\n",
        "        # backward pass/calculating gradients\n",
        "        loss.backward()\n",
        "\n",
        "        # optimizing the parameters of the bert model using computed gradient\n",
        "        optimizer.step()\n",
        "\n",
        "        # Update the learning rate.\n",
        "        lr_scheduler.step()\n",
        "\n",
        "        progress_bar.update(1)\n",
        "\n",
        "    # calculate the average loss\n",
        "    epoch_train_loss = total_train_loss / len(train_loader)\n",
        "    train_losses.append(epoch_train_loss)\n",
        "    print(f\"\\nTraining epoch {epoch + 1} loss: \", epoch_train_loss)\n",
        "\n",
        "    # TESTING BLOCK STARTS\n",
        "    total_val_loss = 0\n",
        "\n",
        "    # put the model in evaluation mode\n",
        "    bert_model.eval()\n",
        "    all_val_preds = []\n",
        "    all_val_labels = []\n",
        "\n",
        "    for i, batch in enumerate(validation_loader):\n",
        "        (b_input_ids, b_input_mask, b_labels) = tuple(t.to(device) for t in batch)\n",
        "\n",
        "        # ensure labels are of type LongTensor\n",
        "        b_labels = b_labels.long()\n",
        "\n",
        "        # no gradients needed for testning/validation\n",
        "        with torch.no_grad():\n",
        "            outputs = bert_model(b_input_ids, attention_mask=b_input_mask)\n",
        "\n",
        "        logits = outputs.logits\n",
        "        loss = loss_fn(logits, b_labels)\n",
        "\n",
        "        total_val_loss += loss.item()\n",
        "\n",
        "        # get predictions\n",
        "        preds = torch.argmax(logits, dim=-1)\n",
        "        all_val_preds.extend(preds.cpu().numpy())\n",
        "        all_val_labels.extend(b_labels.cpu().numpy())\n",
        "\n",
        "    epoch_val_loss = total_val_loss / len(validation_loader)\n",
        "    accuracy = accuracy_score(all_val_labels, all_val_preds)\n",
        "    precision = precision_score(all_val_labels, all_val_preds, average=\"binary\")\n",
        "    recall = recall_score(all_val_labels, all_val_preds, average=\"binary\")\n",
        "    f1 = f1_score(all_val_labels, all_val_preds, average=\"binary\")\n",
        "    roc_auc = roc_auc_score(all_val_labels, all_val_preds)\n",
        "\n",
        "    print(f\"\\nValidation epoch {epoch + 1} loss: {epoch_val_loss}\")\n",
        "    print(f\"Accuracy: {accuracy}\")\n",
        "    print(f\"Precision: {precision}\")\n",
        "    print(f\"Recall: {recall}\")\n",
        "    print(f\"F1 Score: {f1}\")\n",
        "    print(f\"ROC-AUC: {roc_auc}\")\n",
        "\n",
        "    val_losses.append(epoch_val_loss)\n",
        "    val_accuracies.append(accuracy)\n",
        "    val_precisions.append(precision)\n",
        "    val_recalls.append(recall)\n",
        "    val_f1_scores.append(f1)\n",
        "    val_roc_aucs.append(roc_auc)\n",
        "\n",
        "    #  early stopping\n",
        "    # if avg_val_loss < best_val_loss or f1 > best_f1:\n",
        "    #     best_val_loss = avg_val_loss\n",
        "    #     best_f1 = f1\n",
        "    #     trigger_times = 0\n",
        "    #     # Save the best model weights\n",
        "    #     torch.save(bert_model.state_dict(), 'best_model.pt')\n",
        "    # else:\n",
        "    #     trigger_times += 1\n",
        "    #     if trigger_times >= patience:\n",
        "    #         print(\"Early stopping!\")\n",
        "    #         bert_model.load_state_dict(torch.load('best_model.pt'))\n",
        "    #         break\n",
        "\n",
        "print(\"Training complete!\")"
      ]
    },
    {
      "cell_type": "markdown",
      "metadata": {
        "id": "nA_mCtKKyQKs"
      },
      "source": [
        "Cuvanje modela i optimizera"
      ]
    },
    {
      "cell_type": "code",
      "execution_count": 22,
      "metadata": {
        "id": "efN0V73TpspC"
      },
      "outputs": [],
      "source": [
        "model_save_path = \"drive/MyDrive/bert_model.pt\"\n",
        "optimizer_save_path = \"drive/MyDrive/optimizer.pt\"\n",
        "\n",
        "torch.save(bert_model.state_dict(), model_save_path)\n",
        "\n",
        "torch.save(optimizer.state_dict(), optimizer_save_path)"
      ]
    },
    {
      "cell_type": "markdown",
      "metadata": {
        "id": "jM3U-zGUyQKs"
      },
      "source": [
        "## Rezime i vizualizacija rezultata obučavanja"
      ]
    },
    {
      "cell_type": "code",
      "execution_count": 23,
      "metadata": {
        "id": "l-Wq7qWa0YD2"
      },
      "outputs": [],
      "source": [
        "# !pip install tabulate"
      ]
    },
    {
      "cell_type": "code",
      "execution_count": 24,
      "metadata": {
        "colab": {
          "base_uri": "https://localhost:8080/"
        },
        "id": "GB1fcNHGaWAs",
        "outputId": "70ef6b47-facf-4986-aa7b-c66c46600dcc"
      },
      "outputs": [
        {
          "name": "stdout",
          "output_type": "stream",
          "text": [
            "  Epoch    Train Loss    Val Loss    Val Acc    Val Precision    Val Recall    Val F1    Val ROC-AUC\n",
            "-------  ------------  ----------  ---------  ---------------  ------------  --------  -------------\n",
            "      1        0.2058      0.1048     0.9645           0.9667        0.9636    0.9651         0.9645\n",
            "      2        0.0741      0.0934     0.9645           0.9597        0.9711    0.9654         0.9644\n",
            "      3        0.0260      0.1374     0.9596           0.9387        0.9850    0.9613         0.9591\n",
            "      4        0.0123      0.1264     0.9634           0.9510        0.9786    0.9646         0.9631\n"
          ]
        }
      ],
      "source": [
        "table_data = [\n",
        "    [\n",
        "        \"Epoch\",\n",
        "        \"Train Loss\",\n",
        "        \"Val Loss\",\n",
        "        \"Val Acc\",\n",
        "        \"Val Precision\",\n",
        "        \"Val Recall\",\n",
        "        \"Val F1\",\n",
        "        \"Val ROC-AUC\",\n",
        "    ],\n",
        "]\n",
        "\n",
        "for epoch in range(num_epochs):\n",
        "    table_data.append(\n",
        "        [\n",
        "            epoch + 1,\n",
        "            train_losses[epoch],\n",
        "            val_losses[epoch],\n",
        "            val_accuracies[epoch],\n",
        "            val_precisions[epoch],\n",
        "            val_recalls[epoch],\n",
        "            val_f1_scores[epoch],\n",
        "            val_roc_aucs[epoch],\n",
        "        ]\n",
        "    )\n",
        "\n",
        "print(tabulate(table_data, headers=\"firstrow\", floatfmt=\".4f\"))"
      ]
    },
    {
      "cell_type": "markdown",
      "metadata": {
        "id": "_ak0zBQTyQKt"
      },
      "source": [
        "Primjećujemo da iako *Training loss* opada *Validation loss* raste nakon druge epohe, što nam sugeriše da nam model nakon druge epohe potencijalno overfituje"
      ]
    },
    {
      "cell_type": "code",
      "execution_count": 25,
      "metadata": {
        "colab": {
          "base_uri": "https://localhost:8080/",
          "height": 403
        },
        "id": "SaNMKNQ8atRK",
        "outputId": "687612d7-76be-42da-aee3-e5f6459d3a4c"
      },
      "outputs": [
        {
          "data": {
            "image/png": "[encoded data removed]",
            "text/plain": [
              "<Figure size 1200x600 with 1 Axes>"
            ]
          },
          "metadata": {},
          "output_type": "display_data"
        }
      ],
      "source": [
        "# Plot the training and validation loss\n",
        "plt.figure(figsize=(12, 6))\n",
        "plt.plot(range(1, num_epochs + 1), train_losses, label=\"Training Loss\")\n",
        "plt.plot(range(1, num_epochs + 1), val_losses, label=\"Validation Loss\")\n",
        "plt.xlabel(\"Epoch\")\n",
        "plt.ylabel(\"Loss\")\n",
        "plt.title(\"Training and Validation Loss\")\n",
        "plt.legend()\n",
        "plt.show()"
      ]
    },
    {
      "cell_type": "markdown",
      "metadata": {
        "id": "AMhnQesjud89"
      },
      "source": [
        "### Evaluacija nad testnim podacima"
      ]
    },
    {
      "cell_type": "code",
      "execution_count": 26,
      "metadata": {
        "colab": {
          "base_uri": "https://localhost:8080/"
        },
        "id": "0G4X4tlXudqq",
        "outputId": "075823f2-ea43-47a9-f65f-31b1ee949dc7"
      },
      "outputs": [
        {
          "name": "stdout",
          "output_type": "stream",
          "text": [
            "Test loss: 0.1477\n",
            "Test Accuracy: 0.9624\n",
            "Test Precision: 0.9602\n",
            "Test Recall: 0.9668\n",
            "Test F1 Score: 0.9635\n",
            "Test ROC-AUC: 0.9623\n",
            "Test FPR: 0.0421\n",
            "Test FNR: 0.0332\n"
          ]
        }
      ],
      "source": [
        "test_input_ids, test_attention_masks = encode_data(list(X_test))\n",
        "\n",
        "test_labels = torch.tensor(y_test.values, dtype=torch.long)\n",
        "\n",
        "\n",
        "test_dataset = TensorDataset(test_input_ids, test_attention_masks, test_labels)\n",
        "\n",
        "\n",
        "test_loader = DataLoader(test_dataset, shuffle=False, batch_size=batch_size)\n",
        "\n",
        "\n",
        "def evaluate_model(model, dataloader, device):\n",
        "    model.eval()\n",
        "    total_test_loss = 0\n",
        "    all_preds = []\n",
        "    all_labels = []\n",
        "\n",
        "    for batch in dataloader:\n",
        "        (b_input_ids, b_input_mask, b_labels) = tuple(t.to(device) for t in batch)\n",
        "\n",
        "        b_labels = b_labels.long()\n",
        "\n",
        "        with torch.no_grad():\n",
        "            outputs = bert_model(b_input_ids, attention_mask=b_input_mask)\n",
        "\n",
        "        logits = outputs.logits\n",
        "        loss = loss_fn(logits, b_labels)\n",
        "\n",
        "        total_test_loss += loss.item()\n",
        "\n",
        "        # get predictions\n",
        "        preds = torch.argmax(logits, dim=-1)\n",
        "        all_preds.extend(preds.cpu().numpy())\n",
        "        all_labels.extend(b_labels.cpu().numpy())\n",
        "\n",
        "    avg_loss = total_test_loss / len(dataloader)\n",
        "    accuracy = accuracy_score(all_labels, all_preds)\n",
        "    precision = precision_score(all_labels, all_preds)\n",
        "    recall = recall_score(all_labels, all_preds)\n",
        "    f1 = f1_score(all_labels, all_preds)\n",
        "    roc_auc = roc_auc_score(all_labels, all_preds)\n",
        "\n",
        "    # confusion matrix\n",
        "    cm = confusion_matrix(all_labels, all_preds)\n",
        "    tn, fp, fn, tp = cm.ravel()  # for binary classification\n",
        "\n",
        "    fpr = fp / (fp + tn) if (fp + tn) > 0 else 0\n",
        "    fnr = fn / (fn + tp) if (fn + tp) > 0 else 0\n",
        "\n",
        "    return avg_loss, accuracy, precision, recall, f1, roc_auc, fpr, fnr\n",
        "\n",
        "\n",
        "(\n",
        "    test_loss,\n",
        "    test_accuracy,\n",
        "    test_precision,\n",
        "    test_recall,\n",
        "    test_f1,\n",
        "    test_roc_auc,\n",
        "    test_fpr,\n",
        "    test_fnr,\n",
        ") = evaluate_model(bert_model, test_loader, device)\n",
        "\n",
        "print(f\"Test loss: {test_loss:.4f}\")\n",
        "print(f\"Test Accuracy: {test_accuracy:.4f}\")\n",
        "print(f\"Test Precision: {test_precision:.4f}\")\n",
        "print(f\"Test Recall: {test_recall:.4f}\")\n",
        "print(f\"Test F1 Score: {test_f1:.4f}\")\n",
        "print(f\"Test ROC-AUC: {test_roc_auc:.4f}\")\n",
        "print(f\"Test FPR: {test_fpr:.4f}\")\n",
        "print(f\"Test FNR: {test_fnr:.4f}\")"
      ]
    }
  ],
  "metadata": {
    "accelerator": "GPU",
    "colab": {
      "gpuType": "T4",
      "provenance": []
    },
    "kernelspec": {
      "display_name": "Python 3",
      "name": "python3"
    },
    "language_info": {
      "name": "python"
    },
    "widgets": {
      "application/vnd.jupyter.widget-state+json": {
        "1d90506cf2ff4c158899a8b354dd423f": {
          "model_module": "@jupyter-widgets/controls",
          "model_module_version": "1.5.0",
          "model_name": "DescriptionStyleModel",
          "state": {
            "_model_module": "@jupyter-widgets/controls",
            "_model_module_version": "1.5.0",
            "_model_name": "DescriptionStyleModel",
            "_view_count": null,
            "_view_module": "@jupyter-widgets/base",
            "_view_module_version": "1.2.0",
            "_view_name": "StyleView",
            "description_width": ""
          }
        },
        "29d6ebfe33de4c789e5874dad39c14e7": {
          "model_module": "@jupyter-widgets/controls",
          "model_module_version": "1.5.0",
          "model_name": "HTMLModel",
          "state": {
            "_dom_classes": [],
            "_model_module": "@jupyter-widgets/controls",
            "_model_module_version": "1.5.0",
            "_model_name": "HTMLModel",
            "_view_count": null,
            "_view_module": "@jupyter-widgets/controls",
            "_view_module_version": "1.5.0",
            "_view_name": "HTMLView",
            "description": "",
            "description_tooltip": null,
            "layout": "IPY_MODEL_dcde6bae02f7449eb248035d10cb12ff",
            "placeholder": "​",
            "style": "IPY_MODEL_a224bc6774314b1297b6cf360cb161f2",
            "value": " 1832/1832 [45:49&lt;00:00,  1.37s/it]"
          }
        },
        "69124d421abc441d8c1bfc79569a96e9": {
          "model_module": "@jupyter-widgets/base",
          "model_module_version": "1.2.0",
          "model_name": "LayoutModel",
          "state": {
            "_model_module": "@jupyter-widgets/base",
            "_model_module_version": "1.2.0",
            "_model_name": "LayoutModel",
            "_view_count": null,
            "_view_module": "@jupyter-widgets/base",
            "_view_module_version": "1.2.0",
            "_view_name": "LayoutView",
            "align_content": null,
            "align_items": null,
            "align_self": null,
            "border": null,
            "bottom": null,
            "display": null,
            "flex": null,
            "flex_flow": null,
            "grid_area": null,
            "grid_auto_columns": null,
            "grid_auto_flow": null,
            "grid_auto_rows": null,
            "grid_column": null,
            "grid_gap": null,
            "grid_row": null,
            "grid_template_areas": null,
            "grid_template_columns": null,
            "grid_template_rows": null,
            "height": null,
            "justify_content": null,
            "justify_items": null,
            "left": null,
            "margin": null,
            "max_height": null,
            "max_width": null,
            "min_height": null,
            "min_width": null,
            "object_fit": null,
            "object_position": null,
            "order": null,
            "overflow": null,
            "overflow_x": null,
            "overflow_y": null,
            "padding": null,
            "right": null,
            "top": null,
            "visibility": null,
            "width": null
          }
        },
        "750cfd868a6240ee8076c6b8bb155e86": {
          "model_module": "@jupyter-widgets/controls",
          "model_module_version": "1.5.0",
          "model_name": "HTMLModel",
          "state": {
            "_dom_classes": [],
            "_model_module": "@jupyter-widgets/controls",
            "_model_module_version": "1.5.0",
            "_model_name": "HTMLModel",
            "_view_count": null,
            "_view_module": "@jupyter-widgets/controls",
            "_view_module_version": "1.5.0",
            "_view_name": "HTMLView",
            "description": "",
            "description_tooltip": null,
            "layout": "IPY_MODEL_69124d421abc441d8c1bfc79569a96e9",
            "placeholder": "​",
            "style": "IPY_MODEL_1d90506cf2ff4c158899a8b354dd423f",
            "value": "100%"
          }
        },
        "82b0e1005f764d35ab57a834abf1326b": {
          "model_module": "@jupyter-widgets/controls",
          "model_module_version": "1.5.0",
          "model_name": "FloatProgressModel",
          "state": {
            "_dom_classes": [],
            "_model_module": "@jupyter-widgets/controls",
            "_model_module_version": "1.5.0",
            "_model_name": "FloatProgressModel",
            "_view_count": null,
            "_view_module": "@jupyter-widgets/controls",
            "_view_module_version": "1.5.0",
            "_view_name": "ProgressView",
            "bar_style": "",
            "description": "",
            "description_tooltip": null,
            "layout": "IPY_MODEL_ec3895aef69d497e93f5881956a899cc",
            "max": 1832,
            "min": 0,
            "orientation": "horizontal",
            "style": "IPY_MODEL_95504bf8aba14b4a87bdbb920eb941fe",
            "value": 1832
          }
        },
        "95504bf8aba14b4a87bdbb920eb941fe": {
          "model_module": "@jupyter-widgets/controls",
          "model_module_version": "1.5.0",
          "model_name": "ProgressStyleModel",
          "state": {
            "_model_module": "@jupyter-widgets/controls",
            "_model_module_version": "1.5.0",
            "_model_name": "ProgressStyleModel",
            "_view_count": null,
            "_view_module": "@jupyter-widgets/base",
            "_view_module_version": "1.2.0",
            "_view_name": "StyleView",
            "bar_color": null,
            "description_width": ""
          }
        },
        "a224bc6774314b1297b6cf360cb161f2": {
          "model_module": "@jupyter-widgets/controls",
          "model_module_version": "1.5.0",
          "model_name": "DescriptionStyleModel",
          "state": {
            "_model_module": "@jupyter-widgets/controls",
            "_model_module_version": "1.5.0",
            "_model_name": "DescriptionStyleModel",
            "_view_count": null,
            "_view_module": "@jupyter-widgets/base",
            "_view_module_version": "1.2.0",
            "_view_name": "StyleView",
            "description_width": ""
          }
        },
        "a2c82c62e8dd4f67a9c97da1f8a4b1c4": {
          "model_module": "@jupyter-widgets/base",
          "model_module_version": "1.2.0",
          "model_name": "LayoutModel",
          "state": {
            "_model_module": "@jupyter-widgets/base",
            "_model_module_version": "1.2.0",
            "_model_name": "LayoutModel",
            "_view_count": null,
            "_view_module": "@jupyter-widgets/base",
            "_view_module_version": "1.2.0",
            "_view_name": "LayoutView",
            "align_content": null,
            "align_items": null,
            "align_self": null,
            "border": null,
            "bottom": null,
            "display": null,
            "flex": null,
            "flex_flow": null,
            "grid_area": null,
            "grid_auto_columns": null,
            "grid_auto_flow": null,
            "grid_auto_rows": null,
            "grid_column": null,
            "grid_gap": null,
            "grid_row": null,
            "grid_template_areas": null,
            "grid_template_columns": null,
            "grid_template_rows": null,
            "height": null,
            "justify_content": null,
            "justify_items": null,
            "left": null,
            "margin": null,
            "max_height": null,
            "max_width": null,
            "min_height": null,
            "min_width": null,
            "object_fit": null,
            "object_position": null,
            "order": null,
            "overflow": null,
            "overflow_x": null,
            "overflow_y": null,
            "padding": null,
            "right": null,
            "top": null,
            "visibility": null,
            "width": null
          }
        },
        "cff5022f37564c90abe36f8dccd08c38": {
          "model_module": "@jupyter-widgets/controls",
          "model_module_version": "1.5.0",
          "model_name": "HBoxModel",
          "state": {
            "_dom_classes": [],
            "_model_module": "@jupyter-widgets/controls",
            "_model_module_version": "1.5.0",
            "_model_name": "HBoxModel",
            "_view_count": null,
            "_view_module": "@jupyter-widgets/controls",
            "_view_module_version": "1.5.0",
            "_view_name": "HBoxView",
            "box_style": "",
            "children": [
              "IPY_MODEL_750cfd868a6240ee8076c6b8bb155e86",
              "IPY_MODEL_82b0e1005f764d35ab57a834abf1326b",
              "IPY_MODEL_29d6ebfe33de4c789e5874dad39c14e7"
            ],
            "layout": "IPY_MODEL_a2c82c62e8dd4f67a9c97da1f8a4b1c4"
          }
        },
        "dcde6bae02f7449eb248035d10cb12ff": {
          "model_module": "@jupyter-widgets/base",
          "model_module_version": "1.2.0",
          "model_name": "LayoutModel",
          "state": {
            "_model_module": "@jupyter-widgets/base",
            "_model_module_version": "1.2.0",
            "_model_name": "LayoutModel",
            "_view_count": null,
            "_view_module": "@jupyter-widgets/base",
            "_view_module_version": "1.2.0",
            "_view_name": "LayoutView",
            "align_content": null,
            "align_items": null,
            "align_self": null,
            "border": null,
            "bottom": null,
            "display": null,
            "flex": null,
            "flex_flow": null,
            "grid_area": null,
            "grid_auto_columns": null,
            "grid_auto_flow": null,
            "grid_auto_rows": null,
            "grid_column": null,
            "grid_gap": null,
            "grid_row": null,
            "grid_template_areas": null,
            "grid_template_columns": null,
            "grid_template_rows": null,
            "height": null,
            "justify_content": null,
            "justify_items": null,
            "left": null,
            "margin": null,
            "max_height": null,
            "max_width": null,
            "min_height": null,
            "min_width": null,
            "object_fit": null,
            "object_position": null,
            "order": null,
            "overflow": null,
            "overflow_x": null,
            "overflow_y": null,
            "padding": null,
            "right": null,
            "top": null,
            "visibility": null,
            "width": null
          }
        },
        "ec3895aef69d497e93f5881956a899cc": {
          "model_module": "@jupyter-widgets/base",
          "model_module_version": "1.2.0",
          "model_name": "LayoutModel",
          "state": {
            "_model_module": "@jupyter-widgets/base",
            "_model_module_version": "1.2.0",
            "_model_name": "LayoutModel",
            "_view_count": null,
            "_view_module": "@jupyter-widgets/base",
            "_view_module_version": "1.2.0",
            "_view_name": "LayoutView",
            "align_content": null,
            "align_items": null,
            "align_self": null,
            "border": null,
            "bottom": null,
            "display": null,
            "flex": null,
            "flex_flow": null,
            "grid_area": null,
            "grid_auto_columns": null,
            "grid_auto_flow": null,
            "grid_auto_rows": null,
            "grid_column": null,
            "grid_gap": null,
            "grid_row": null,
            "grid_template_areas": null,
            "grid_template_columns": null,
            "grid_template_rows": null,
            "height": null,
            "justify_content": null,
            "justify_items": null,
            "left": null,
            "margin": null,
            "max_height": null,
            "max_width": null,
            "min_height": null,
            "min_width": null,
            "object_fit": null,
            "object_position": null,
            "order": null,
            "overflow": null,
            "overflow_x": null,
            "overflow_y": null,
            "padding": null,
            "right": null,
            "top": null,
            "visibility": null,
            "width": null
          }
        }
      }
    }
  },
  "nbformat": 4,
  "nbformat_minor": 0
}
