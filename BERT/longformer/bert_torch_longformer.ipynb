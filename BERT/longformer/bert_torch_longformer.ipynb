{
  "cells": [
    {
      "cell_type": "code",
      "execution_count": null,
      "metadata": {
        "colab": {
          "base_uri": "https://localhost:8080/"
        },
        "id": "ahzYEgevkwH4",
        "outputId": "04abf63d-0b37-44b5-d8bf-0b5d16bd6299"
      },
      "outputs": [
        {
          "data": {
            "text/plain": [
              "True"
            ]
          },
          "execution_count": 1,
          "metadata": {},
          "output_type": "execute_result"
        }
      ],
      "source": [
        "import torch\n",
        "import io\n",
        "import pandas as pd\n",
        "from transformers import LongformerTokenizer\n",
        "from sklearn.model_selection import train_test_split\n",
        "from torch.utils.data import TensorDataset\n",
        "from torch.utils.data import DataLoader\n",
        "from tqdm.auto import tqdm\n",
        "from sklearn.metrics import accuracy_score, precision_score, recall_score, f1_score, roc_auc_score, confusion_matrix\n",
        "\n",
        "torch.cuda.is_available()"
      ]
    },
    {
      "cell_type": "code",
      "execution_count": null,
      "metadata": {
        "id": "0tygnHWslhWV"
      },
      "outputs": [],
      "source": [
        "# !pip install transformers"
      ]
    },
    {
      "cell_type": "code",
      "execution_count": null,
      "metadata": {
        "colab": {
          "base_uri": "https://localhost:8080/"
        },
        "id": "RP1-lpB0pQKG",
        "outputId": "53dec626-57df-41ec-d187-f95eae03116e"
      },
      "outputs": [],
      "source": [
        "df = pd.read_csv(\"../../data/preprocessed_sub_and_body.csv\")\n",
        "df[\"body\"] = df[\"body\"].astype(str)\n",
        "df[\"label\"] = df[\"label\"].astype(int)"
      ]
    },
    {
      "cell_type": "code",
      "execution_count": null,
      "metadata": {
        "colab": {
          "base_uri": "https://localhost:8080/"
        },
        "id": "aQSd-K6Wy3Cw",
        "outputId": "8597fe4c-6e68-42ac-d6d7-22a8e81787de"
      },
      "outputs": [
        {
          "name": "stderr",
          "output_type": "stream",
          "text": [
            "/usr/local/lib/python3.10/dist-packages/huggingface_hub/utils/_token.py:89: UserWarning: \n",
            "The secret `HF_TOKEN` does not exist in your Colab secrets.\n",
            "To authenticate with the Hugging Face Hub, create a token in your settings tab (https://huggingface.co/settings/tokens), set it as secret in your Google Colab and restart your session.\n",
            "You will be able to reuse this secret in all of your notebooks.\n",
            "Please note that authentication is recommended but still optional to access public models or datasets.\n",
            "  warnings.warn(\n"
          ]
        }
      ],
      "source": [
        "# Tokenization\n",
        "tokenizer = LongformerTokenizer.from_pretrained(\"allenai/longformer-base-4096\")"
      ]
    },
    {
      "cell_type": "code",
      "execution_count": null,
      "metadata": {
        "colab": {
          "base_uri": "https://localhost:8080/"
        },
        "id": "B1Zpv9BfD7DL",
        "outputId": "8f2641cb-69b0-40fb-e97c-94838ff9e89f"
      },
      "outputs": [],
      "source": [
        "average_length = df[\"length\"].mean()\n",
        "max_length = df[\"length\"].max()\n",
        "min_length = df[\"length\"].min()\n",
        "\n",
        "print(f\"Average length: {average_length}\")\n",
        "print(f\"Max length: {max_length}\")\n",
        "print(f\"Min length: {min_length}\")"
      ]
    },
    {
      "cell_type": "code",
      "execution_count": null,
      "metadata": {
        "id": "enrdNrq9A2Ye"
      },
      "outputs": [],
      "source": [
        "X_train_val, X_test, y_train_val, y_test = train_test_split(\n",
        "    df[\"body\"], df[\"label\"], stratify=df[\"label\"], test_size=0.2\n",
        ")\n",
        "\n",
        "X_train, X_val, y_train, y_val = train_test_split(\n",
        "    X_train_val, y_train_val, random_state=42, test_size=0.2\n",
        ")"
      ]
    },
    {
      "cell_type": "markdown",
      "metadata": {},
      "source": [
        "Maksimalna duzina sekvence je 1024 zbog ogranicenih resursa"
      ]
    },
    {
      "cell_type": "code",
      "execution_count": null,
      "metadata": {
        "id": "ZAY_wObTy5hq"
      },
      "outputs": [],
      "source": [
        "def encode_data(input_text):\n",
        "    tokens = tokenizer.batch_encode_plus(\n",
        "        input_text,\n",
        "        add_special_tokens=True,\n",
        "        truncation=True,\n",
        "        max_length=1024,\n",
        "        padding=True,\n",
        "        return_attention_mask=True,\n",
        "        return_tensors=\"pt\",\n",
        "    )\n",
        "    return tokens[\"input_ids\"], tokens[\"attention_mask\"]\n",
        "\n",
        "\n",
        "train_input_ids, train_attention_masks = encode_data(list(X_train))\n",
        "val_input_ids, val_attention_masks = encode_data(list(X_val))\n",
        "\n",
        "# convert labels to PyTorch tensors\n",
        "train_labels = torch.tensor(y_train.values, dtype=torch.float32)\n",
        "val_labels = torch.tensor(y_val.values, dtype=torch.float32)"
      ]
    },
    {
      "cell_type": "code",
      "execution_count": null,
      "metadata": {
        "id": "nOQDaJa7DrwT"
      },
      "outputs": [],
      "source": [
        "train_dataset = TensorDataset(train_input_ids, train_attention_masks, train_labels)\n",
        "val_dataset = TensorDataset(val_input_ids, val_attention_masks, val_labels)"
      ]
    },
    {
      "cell_type": "markdown",
      "metadata": {
        "id": "j5lrHXLifwFe"
      },
      "source": [
        "Koristićemo LongformerForSequenceClassification. \n",
        "\n",
        "Za optimizaciju ćemo koristiti AdamW optimizer sa *learning-rate*-om postavljenim na 2e−5.\n",
        "\n",
        "Za loss funkciju je odabrana CrossEntropyLoss\n",
        "\n",
        "Za *fine-tuning* biramo sljedeće hiperparametre:\n",
        "\n",
        "- Batch size: 16 (Batch size 32 nije moguć zbog ograničenih resursa)\n",
        "- Learning rate: 2e-5\n",
        "- Epochs: 4\n"
      ]
    },
    {
      "cell_type": "code",
      "execution_count": null,
      "metadata": {
        "id": "Ca6gBl6mf1Pd"
      },
      "outputs": [],
      "source": [
        "batch_size = 16\n",
        "\n",
        "train_loader = DataLoader(train_dataset, shuffle=True, batch_size=batch_size)\n",
        "\n",
        "validation_loader = DataLoader(\n",
        "    val_dataset,  \n",
        "    shuffle=False,  \n",
        "    batch_size=batch_size, \n",
        ")"
      ]
    },
    {
      "cell_type": "code",
      "execution_count": null,
      "metadata": {
        "colab": {
          "base_uri": "https://localhost:8080/"
        },
        "id": "LOFKVLingEaK",
        "outputId": "35e4545b-32c3-4f24-e1c2-fbdd6d30835d"
      },
      "outputs": [
        {
          "name": "stderr",
          "output_type": "stream",
          "text": [
            "Some weights of LongformerForSequenceClassification were not initialized from the model checkpoint at allenai/longformer-base-4096 and are newly initialized: ['classifier.dense.bias', 'classifier.dense.weight', 'classifier.out_proj.bias', 'classifier.out_proj.weight']\n",
            "You should probably TRAIN this model on a down-stream task to be able to use it for predictions and inference.\n",
            "/usr/local/lib/python3.10/dist-packages/transformers/optimization.py:588: FutureWarning: This implementation of AdamW is deprecated and will be removed in a future version. Use the PyTorch implementation torch.optim.AdamW instead, or set `no_deprecation_warning=True` to disable this warning\n",
            "  warnings.warn(\n"
          ]
        }
      ],
      "source": [
        "from transformers import (\n",
        "    LongformerForSequenceClassification,\n",
        "    AdamW,\n",
        "    BertConfig,\n",
        "    get_scheduler,\n",
        ")\n",
        "\n",
        "bert_model = LongformerForSequenceClassification.from_pretrained(\n",
        "    \"allenai/longformer-base-4096\",\n",
        "    num_labels=2,  # T binary classification.\n",
        "    output_attentions=False,  # don't return attentions weights.\n",
        "    output_hidden_states=False,  # don't return all hidden-states.\n",
        ")\n",
        "\n",
        "\n",
        "optimizer = AdamW(bert_model.parameters(), lr=2e-5)\n",
        "loss_fn = torch.nn.CrossEntropyLoss()\n",
        "\n",
        "num_epochs = 4\n",
        "\n",
        "# number of training steps = [number of batches] x [number of epochs].\n",
        "num_training_steps = len(train_loader) * num_epochs\n",
        "\n",
        "# create the learning rate scheduler\n",
        "lr_scheduler = get_scheduler(\n",
        "    name=\"linear\",\n",
        "    optimizer=optimizer,\n",
        "    num_warmup_steps=0,\n",
        "    num_training_steps=num_training_steps,\n",
        ")"
      ]
    },
    {
      "cell_type": "code",
      "execution_count": null,
      "metadata": {
        "colab": {
          "base_uri": "https://localhost:8080/"
        },
        "id": "OzsuW-cBouHi",
        "outputId": "44285edb-0524-4704-96e8-8980eef2d991"
      },
      "outputs": [
        {
          "data": {
            "text/plain": [
              "LongformerForSequenceClassification(\n",
              "  (longformer): LongformerModel(\n",
              "    (embeddings): LongformerEmbeddings(\n",
              "      (word_embeddings): Embedding(50265, 768, padding_idx=1)\n",
              "      (token_type_embeddings): Embedding(1, 768)\n",
              "      (LayerNorm): LayerNorm((768,), eps=1e-05, elementwise_affine=True)\n",
              "      (dropout): Dropout(p=0.1, inplace=False)\n",
              "      (position_embeddings): Embedding(4098, 768, padding_idx=1)\n",
              "    )\n",
              "    (encoder): LongformerEncoder(\n",
              "      (layer): ModuleList(\n",
              "        (0-11): 12 x LongformerLayer(\n",
              "          (attention): LongformerAttention(\n",
              "            (self): LongformerSelfAttention(\n",
              "              (query): Linear(in_features=768, out_features=768, bias=True)\n",
              "              (key): Linear(in_features=768, out_features=768, bias=True)\n",
              "              (value): Linear(in_features=768, out_features=768, bias=True)\n",
              "              (query_global): Linear(in_features=768, out_features=768, bias=True)\n",
              "              (key_global): Linear(in_features=768, out_features=768, bias=True)\n",
              "              (value_global): Linear(in_features=768, out_features=768, bias=True)\n",
              "            )\n",
              "            (output): LongformerSelfOutput(\n",
              "              (dense): Linear(in_features=768, out_features=768, bias=True)\n",
              "              (LayerNorm): LayerNorm((768,), eps=1e-05, elementwise_affine=True)\n",
              "              (dropout): Dropout(p=0.1, inplace=False)\n",
              "            )\n",
              "          )\n",
              "          (intermediate): LongformerIntermediate(\n",
              "            (dense): Linear(in_features=768, out_features=3072, bias=True)\n",
              "            (intermediate_act_fn): GELUActivation()\n",
              "          )\n",
              "          (output): LongformerOutput(\n",
              "            (dense): Linear(in_features=3072, out_features=768, bias=True)\n",
              "            (LayerNorm): LayerNorm((768,), eps=1e-05, elementwise_affine=True)\n",
              "            (dropout): Dropout(p=0.1, inplace=False)\n",
              "          )\n",
              "        )\n",
              "      )\n",
              "    )\n",
              "  )\n",
              "  (classifier): LongformerClassificationHead(\n",
              "    (dense): Linear(in_features=768, out_features=768, bias=True)\n",
              "    (dropout): Dropout(p=0.1, inplace=False)\n",
              "    (out_proj): Linear(in_features=768, out_features=2, bias=True)\n",
              "  )\n",
              ")"
            ]
          },
          "execution_count": 14,
          "metadata": {},
          "output_type": "execute_result"
        }
      ],
      "source": [
        "device = torch.device(\"cuda\") if torch.cuda.is_available() else torch.device(\"cpu\")\n",
        "\n",
        "bert_model.to(device)"
      ]
    },
    {
      "cell_type": "code",
      "execution_count": null,
      "metadata": {
        "colab": {
          "background_save": true,
          "base_uri": "https://localhost:8080/",
          "height": 277,
          "referenced_widgets": [
            "ff8311404c394672911b63515655dd61",
            "723148dda13c4a90809c23e8f656da0e",
            "d39eb63551a6481fabdbccf044709efe",
            "161cf98fcc9f4ffc83fff56d4325b5df",
            "743eac1682704991b102c4df53986557",
            "9c8b427b0b1f4c7dae73e314cfbc1e6a",
            "bfee71092e8b4cea9f5e002a1030b15f",
            "8784c0cf53514712807becaf3daba114",
            "b225a98ecf804760950b389096703bbe",
            "f7ab1155edee4eb6945b7c43b0893682",
            "cd03d4462b2749cf9b629fae9b5d1435"
          ]
        },
        "id": "WP85fQLYpfTd",
        "outputId": "2136768f-8330-4fc7-aa6e-b5b6b4873414"
      },
      "outputs": [
        {
          "data": {
            "application/vnd.jupyter.widget-view+json": {
              "model_id": "ff8311404c394672911b63515655dd61",
              "version_major": 2,
              "version_minor": 0
            },
            "text/plain": [
              "  0%|          | 0/3664 [00:00<?, ?it/s]"
            ]
          },
          "metadata": {},
          "output_type": "display_data"
        },
        {
          "name": "stdout",
          "output_type": "stream",
          "text": [
            " Epoch 1 / 4\n",
            "\n",
            "Training epoch 1 loss:  0.0006963540790383969\n",
            "Training complete!\n",
            "\n",
            "Validation epoch 1 loss: 0.04869812538247585\n",
            "Accuracy: 0.990174672489083\n",
            "Precision: 0.9957716701902748\n",
            "Recall: 0.9853556485355649\n",
            "F1 Score: 0.9905362776025236\n",
            "ROC-AUC: 0.9903947192449516\n",
            " Epoch 2 / 4\n"
          ]
        }
      ],
      "source": [
        "progress_bar = tqdm(range(num_training_steps))\n",
        "\n",
        "\n",
        "# Initialize lists to store metrics\n",
        "train_losses = []\n",
        "val_losses = []\n",
        "val_accuracies = []\n",
        "val_precisions = []\n",
        "val_recalls = []\n",
        "val_f1_scores = []\n",
        "val_roc_aucs = []\n",
        "\n",
        "for epoch in range(num_epochs):\n",
        "    print(\" Epoch {:} / {:}\".format(epoch + 1, num_epochs))\n",
        "    # reset the total loss for this epoch.\n",
        "    total_train_loss = 0\n",
        "\n",
        "    # put the model into training mode https://stackoverflow.com/questions/51433378/what-does-model-train-do-in-pytorch)\n",
        "    bert_model.train()\n",
        "\n",
        "    for i, batch in enumerate(train_loader):\n",
        "        (b_input_ids, b_input_mask, b_labels) = tuple(\n",
        "            t.to(device) for t in batch\n",
        "        )  # send tesors to gpu\n",
        "\n",
        "        # ensure labels are of type LongTensor\n",
        "        b_labels = b_labels.long()\n",
        "\n",
        "        # setting the gradients to zero\n",
        "        optimizer.zero_grad()\n",
        "\n",
        "        # forward pass\n",
        "        outputs = bert_model(b_input_ids, attention_mask=b_input_mask)\n",
        "\n",
        "        pred = outputs.logits\n",
        "        loss = loss_fn(pred, b_labels)\n",
        "\n",
        "        total_train_loss += loss.item()  # accumulate loss over all batches\n",
        "\n",
        "        # backward pass/calculating gradients\n",
        "        loss.backward()\n",
        "\n",
        "        # optimizing the parameters of the bert model using computed gradient\n",
        "        optimizer.step()\n",
        "\n",
        "        # update the learning rate.\n",
        "        lr_scheduler.step()\n",
        "\n",
        "        progress_bar.update(1)\n",
        "\n",
        "    # calculate the average loss\n",
        "    epoch_train_loss = total_train_loss / len(train_loader)\n",
        "    train_losses.append(epoch_train_loss)\n",
        "    print(f\"\\nTraining epoch {epoch + 1} loss: \", epoch_train_loss)\n",
        "\n",
        "    print(\"Training complete!\")\n",
        "\n",
        "    # TESTING BLOCK STARTS\n",
        "\n",
        "    total_val_loss = 0\n",
        "\n",
        "    # put the model in evaluation mode\n",
        "    bert_model.eval()\n",
        "    all_val_preds = []\n",
        "    all_val_labels = []\n",
        "\n",
        "    for i, batch in enumerate(validation_loader):\n",
        "        (b_input_ids, b_input_mask, b_labels) = tuple(t.to(device) for t in batch)\n",
        "\n",
        "        b_labels = b_labels.long()\n",
        "\n",
        "        with torch.no_grad():\n",
        "            outputs = bert_model(b_input_ids, attention_mask=b_input_mask)\n",
        "\n",
        "        logits = outputs.logits\n",
        "        loss = loss_fn(logits, b_labels)\n",
        "\n",
        "        total_val_loss += loss.item()\n",
        "\n",
        "        preds = torch.argmax(logits, dim=-1)\n",
        "        all_val_preds.extend(preds.cpu().numpy())\n",
        "        all_val_labels.extend(b_labels.cpu().numpy())\n",
        "\n",
        "    epoch_val_loss = total_val_loss / len(validation_loader)\n",
        "    accuracy = accuracy_score(all_val_labels, all_val_preds)\n",
        "    precision = precision_score(all_val_labels, all_val_preds, average=\"binary\")\n",
        "    recall = recall_score(all_val_labels, all_val_preds, average=\"binary\")\n",
        "    f1 = f1_score(all_val_labels, all_val_preds, average=\"binary\")\n",
        "    roc_auc = roc_auc_score(all_val_labels, all_val_preds)\n",
        "\n",
        "    print(f\"\\nValidation epoch {epoch + 1} loss: {epoch_val_loss}\")\n",
        "    print(f\"Accuracy: {accuracy}\")\n",
        "    print(f\"Precision: {precision}\")\n",
        "    print(f\"Recall: {recall}\")\n",
        "    print(f\"F1 Score: {f1}\")\n",
        "    print(f\"ROC-AUC: {roc_auc}\")\n",
        "\n",
        "    val_losses.append(epoch_val_loss)\n",
        "    val_accuracies.append(accuracy)\n",
        "    val_precisions.append(precision)\n",
        "    val_recalls.append(recall)\n",
        "    val_f1_scores.append(f1)\n",
        "    val_roc_aucs.append(roc_auc)\n",
        "\n",
        "    #  # Early stopping\n",
        "    # if avg_val_loss < best_val_loss or f1 > best_f1:\n",
        "    #     best_val_loss = avg_val_loss\n",
        "    #     best_f1 = f1\n",
        "    #     trigger_times = 0\n",
        "    #     # Save the best model weights\n",
        "    #     torch.save(bert_model.state_dict(), 'best_model.pt')\n",
        "    # else:\n",
        "    #     trigger_times += 1\n",
        "    #     if trigger_times >= patience:\n",
        "    #         print(\"Early stopping!\")\n",
        "    #         bert_model.load_state_dict(torch.load('best_model.pt'))\n",
        "    #         break\n",
        "\n",
        "print(\"\")\n",
        "print(\"Training complete!\")"
      ]
    },
    {
      "cell_type": "code",
      "execution_count": null,
      "metadata": {
        "colab": {
          "base_uri": "https://localhost:8080/"
        },
        "id": "efN0V73TpspC",
        "outputId": "068729c8-c4a3-4ff8-e26d-434eacd8cbc5"
      },
      "outputs": [
        {
          "name": "stdout",
          "output_type": "stream",
          "text": [
            "Model and optimizer state saved successfully.\n"
          ]
        }
      ],
      "source": [
        "model_save_path = \"drive/MyDrive/bert_lonformer_model.pt\"\n",
        "optimizer_save_path = \"drive/MyDrive/longformer_optimizer.pt\"\n",
        "\n",
        "torch.save(bert_model.state_dict(), model_save_path)\n",
        "\n",
        "\n",
        "torch.save(optimizer.state_dict(), optimizer_save_path)\n",
        "\n",
        "print(\"Model and optimizer state saved successfully.\")"
      ]
    },
    {
      "cell_type": "markdown",
      "metadata": {},
      "source": [
        "## Rezime i vizualizacija rezultata obučavanja"
      ]
    },
    {
      "cell_type": "code",
      "execution_count": null,
      "metadata": {
        "id": "l-Wq7qWa0YD2"
      },
      "outputs": [],
      "source": [
        "# !pip install tabulate"
      ]
    },
    {
      "cell_type": "code",
      "execution_count": null,
      "metadata": {
        "colab": {
          "base_uri": "https://localhost:8080/"
        },
        "id": "GB1fcNHGaWAs",
        "outputId": "c5ec4c09-4732-4b48-f9dc-f818618a0aa4"
      },
      "outputs": [
        {
          "name": "stdout",
          "output_type": "stream",
          "text": [
            "  Epoch    Train Loss    Val Loss    Val Acc    Val Precision    Val Recall    Val F1    Val ROC-AUC\n",
            "-------  ------------  ----------  ---------  ---------------  ------------  --------  -------------\n",
            "      1        0.1275      0.0587     0.9836           0.9978        0.9707    0.9841         0.9842\n",
            "      2        0.0270      0.0427     0.9902           0.9958        0.9854    0.9905         0.9904\n",
            "      3        0.0106      0.0454     0.9902           0.9958        0.9854    0.9905         0.9904\n",
            "      4        0.0023      0.0487     0.9902           0.9958        0.9854    0.9905         0.9904\n"
          ]
        }
      ],
      "source": [
        "from tabulate import tabulate\n",
        "\n",
        "table_data = [\n",
        "    [\"Epoch\", \"Train Loss\", \"Val Loss\", \"Val Acc\", \"Val Precision\", \"Val Recall\", \"Val F1\", \"Val ROC-AUC\"],\n",
        "]\n",
        "\n",
        "for epoch in range(num_epochs):\n",
        "    table_data.append([\n",
        "        epoch + 1,\n",
        "        train_losses[epoch],\n",
        "        val_losses[epoch],\n",
        "        val_accuracies[epoch],\n",
        "        val_precisions[epoch],\n",
        "        val_recalls[epoch],\n",
        "        val_f1_scores[epoch],\n",
        "        val_roc_aucs[epoch]\n",
        "    ])\n",
        "\n",
        "print(tabulate(table_data, headers=\"firstrow\", floatfmt=\".4f\"))\n"
      ]
    },
    {
      "cell_type": "markdown",
      "metadata": {
        "id": "Bjxd8QSxsBQT"
      },
      "source": [
        "Notice that, while the the training loss is going down with each epoch, the validation loss is increasing! This suggests that we are training our model too long, and it’s over-fitting on the training data.\n",
        "\n",
        "(For reference, we are using 7,695 training samples and 856 validation samples).\n",
        "\n",
        "Validation Loss is a more precise measure than accuracy, because with accuracy we don’t care about the exact output value, but just which side of a threshold it falls on.\n",
        "\n",
        "If we are predicting the correct answer, but with less confidence, then validation loss will catch this, while accuracy will not."
      ]
    },
    {
      "cell_type": "code",
      "execution_count": null,
      "metadata": {
        "colab": {
          "base_uri": "https://localhost:8080/",
          "height": 514
        },
        "id": "SaNMKNQ8atRK",
        "outputId": "e35fe3b0-ef98-438a-943a-7e41b24fac5c"
      },
      "outputs": [
        {
          "data": {
            "image/png": "[encoded data removed]",
            "text/plain": [
              "<Figure size 1200x600 with 1 Axes>"
            ]
          },
          "metadata": {},
          "output_type": "display_data"
        }
      ],
      "source": [
        "import matplotlib.pyplot as plt\n",
        "\n",
        "# Plot the training and validation loss\n",
        "plt.figure(figsize=(12, 6))\n",
        "plt.plot(range(1, num_epochs + 1), train_losses, label='Training Loss')\n",
        "plt.plot(range(1, num_epochs + 1), val_losses, label='Validation Loss')\n",
        "plt.xlabel('Epoch')\n",
        "plt.ylabel('Loss')\n",
        "plt.title('Training and Validation Loss')\n",
        "plt.legend()\n",
        "plt.show()\n"
      ]
    },
    {
      "cell_type": "markdown",
      "metadata": {},
      "source": [
        "Primjećujemo da iako *Training loss* opada *Validation loss* raste nakon druge epohe, što nam sugeriše da nam model nakon druge epohe potencijalno overfituje"
      ]
    },
    {
      "cell_type": "markdown",
      "metadata": {},
      "source": [
        "### Evaluacija nad testnim podacima"
      ]
    },
    {
      "cell_type": "code",
      "execution_count": null,
      "metadata": {
        "colab": {
          "base_uri": "https://localhost:8080/"
        },
        "id": "0G4X4tlXudqq",
        "outputId": "c6434dc6-c430-4184-d8d9-28a05050c512"
      },
      "outputs": [
        {
          "name": "stdout",
          "output_type": "stream",
          "text": [
            "Test loss: 0.0496\n",
            "Test Accuracy: 0.9904\n",
            "Test Precision: 0.9881\n",
            "Test Recall: 0.9932\n",
            "Test F1 Score: 0.9907\n",
            "Test ROC-AUC: 0.9903\n"
          ]
        }
      ],
      "source": [
        "\n",
        "test_input_ids, test_attention_masks = encode_data(list(X_test))\n",
        "\n",
        "test_labels = torch.tensor(y_test.values, dtype=torch.long)\n",
        "\n",
        "test_dataset = TensorDataset(test_input_ids, test_attention_masks, test_labels)\n",
        "\n",
        "test_loader = DataLoader(test_dataset, shuffle=False, batch_size=batch_size)\n",
        "\n",
        "def evaluate_model(model, dataloader, device):\n",
        "    model.eval()\n",
        "    total_loss = 0\n",
        "    all_preds = []\n",
        "    all_labels = []\n",
        "\n",
        "    for batch in dataloader:\n",
        "        (b_input_ids, b_input_mask, b_labels) = tuple(t.to(device) for t in batch)\n",
        "\n",
        "        b_labels = b_labels.long()\n",
        "\n",
        "        with torch.no_grad():\n",
        "            outputs = bert_model(b_input_ids,\n",
        "                             attention_mask=b_input_mask)\n",
        "\n",
        "        logits = outputs.logits\n",
        "        loss = loss_fn(logits, b_labels)\n",
        "\n",
        "        total_loss += loss.item()\n",
        "\n",
        "        preds = torch.argmax(logits, dim=-1)\n",
        "        all_preds.extend(preds.cpu().numpy())\n",
        "        all_labels.extend(b_labels.cpu().numpy())\n",
        "\n",
        "    avg_loss = total_loss / len(dataloader)\n",
        "    accuracy = accuracy_score(all_labels, all_preds)\n",
        "    precision = precision_score(all_labels, all_preds)\n",
        "    recall = recall_score(all_labels, all_preds)\n",
        "    f1 = f1_score(all_labels, all_preds)\n",
        "    roc_auc = roc_auc_score(all_labels, all_preds)\n",
        "\n",
        "     # confusion matrix\n",
        "    cm = confusion_matrix(all_labels, all_preds)\n",
        "    tn, fp, fn, tp = cm.ravel()  # for binary classification\n",
        "\n",
        "    fpr = fp / (fp + tn) if (fp + tn) > 0 else 0\n",
        "    fnr = fn / (fn + tp) if (fn + tp) > 0 else 0\n",
        "\n",
        "    return avg_loss, accuracy, precision, recall, f1, roc_auc, fpr, fnr\n",
        "\n",
        "\n",
        "(\n",
        "    test_loss,\n",
        "    test_accuracy,\n",
        "    test_precision,\n",
        "    test_recall,\n",
        "    test_f1,\n",
        "    test_roc_auc,\n",
        "    test_fpr,\n",
        "    test_fnr,\n",
        ") = evaluate_model(bert_model, test_loader, device)\n",
        "\n",
        "print(f\"Test loss: {test_loss:.4f}\")\n",
        "print(f\"Test Accuracy: {test_accuracy:.4f}\")\n",
        "print(f\"Test Precision: {test_precision:.4f}\")\n",
        "print(f\"Test Recall: {test_recall:.4f}\")\n",
        "print(f\"Test F1 Score: {test_f1:.4f}\")\n",
        "print(f\"Test ROC-AUC: {test_roc_auc:.4f}\")\n",
        "print(f\"Test FPR: {test_fpr:.4f}\")\n",
        "print(f\"Test FNR: {test_fnr:.4f}\")\n"
      ]
    },
    {
      "cell_type": "code",
      "execution_count": null,
      "metadata": {
        "id": "7_Cmc1U8suuj"
      },
      "outputs": [],
      "source": []
    }
  ],
  "metadata": {
    "accelerator": "GPU",
    "colab": {
      "gpuType": "T4",
      "provenance": []
    },
    "kernelspec": {
      "display_name": "Python 3",
      "name": "python3"
    },
    "language_info": {
      "name": "python"
    },
    "widgets": {
      "application/vnd.jupyter.widget-state+json": {
        "161cf98fcc9f4ffc83fff56d4325b5df": {
          "model_module": "@jupyter-widgets/controls",
          "model_module_version": "1.5.0",
          "model_name": "HTMLModel",
          "state": {
            "_dom_classes": [],
            "_model_module": "@jupyter-widgets/controls",
            "_model_module_version": "1.5.0",
            "_model_name": "HTMLModel",
            "_view_count": null,
            "_view_module": "@jupyter-widgets/controls",
            "_view_module_version": "1.5.0",
            "_view_name": "HTMLView",
            "description": "",
            "description_tooltip": null,
            "layout": "IPY_MODEL_f7ab1155edee4eb6945b7c43b0893682",
            "placeholder": "​",
            "style": "IPY_MODEL_cd03d4462b2749cf9b629fae9b5d1435",
            "value": " 925/3664 [43:29&lt;3:57:36,  5.20s/it]"
          }
        },
        "723148dda13c4a90809c23e8f656da0e": {
          "model_module": "@jupyter-widgets/controls",
          "model_module_version": "1.5.0",
          "model_name": "HTMLModel",
          "state": {
            "_dom_classes": [],
            "_model_module": "@jupyter-widgets/controls",
            "_model_module_version": "1.5.0",
            "_model_name": "HTMLModel",
            "_view_count": null,
            "_view_module": "@jupyter-widgets/controls",
            "_view_module_version": "1.5.0",
            "_view_name": "HTMLView",
            "description": "",
            "description_tooltip": null,
            "layout": "IPY_MODEL_9c8b427b0b1f4c7dae73e314cfbc1e6a",
            "placeholder": "​",
            "style": "IPY_MODEL_bfee71092e8b4cea9f5e002a1030b15f",
            "value": " 25%"
          }
        },
        "743eac1682704991b102c4df53986557": {
          "model_module": "@jupyter-widgets/base",
          "model_module_version": "1.2.0",
          "model_name": "LayoutModel",
          "state": {
            "_model_module": "@jupyter-widgets/base",
            "_model_module_version": "1.2.0",
            "_model_name": "LayoutModel",
            "_view_count": null,
            "_view_module": "@jupyter-widgets/base",
            "_view_module_version": "1.2.0",
            "_view_name": "LayoutView",
            "align_content": null,
            "align_items": null,
            "align_self": null,
            "border": null,
            "bottom": null,
            "display": null,
            "flex": null,
            "flex_flow": null,
            "grid_area": null,
            "grid_auto_columns": null,
            "grid_auto_flow": null,
            "grid_auto_rows": null,
            "grid_column": null,
            "grid_gap": null,
            "grid_row": null,
            "grid_template_areas": null,
            "grid_template_columns": null,
            "grid_template_rows": null,
            "height": null,
            "justify_content": null,
            "justify_items": null,
            "left": null,
            "margin": null,
            "max_height": null,
            "max_width": null,
            "min_height": null,
            "min_width": null,
            "object_fit": null,
            "object_position": null,
            "order": null,
            "overflow": null,
            "overflow_x": null,
            "overflow_y": null,
            "padding": null,
            "right": null,
            "top": null,
            "visibility": null,
            "width": null
          }
        },
        "8784c0cf53514712807becaf3daba114": {
          "model_module": "@jupyter-widgets/base",
          "model_module_version": "1.2.0",
          "model_name": "LayoutModel",
          "state": {
            "_model_module": "@jupyter-widgets/base",
            "_model_module_version": "1.2.0",
            "_model_name": "LayoutModel",
            "_view_count": null,
            "_view_module": "@jupyter-widgets/base",
            "_view_module_version": "1.2.0",
            "_view_name": "LayoutView",
            "align_content": null,
            "align_items": null,
            "align_self": null,
            "border": null,
            "bottom": null,
            "display": null,
            "flex": null,
            "flex_flow": null,
            "grid_area": null,
            "grid_auto_columns": null,
            "grid_auto_flow": null,
            "grid_auto_rows": null,
            "grid_column": null,
            "grid_gap": null,
            "grid_row": null,
            "grid_template_areas": null,
            "grid_template_columns": null,
            "grid_template_rows": null,
            "height": null,
            "justify_content": null,
            "justify_items": null,
            "left": null,
            "margin": null,
            "max_height": null,
            "max_width": null,
            "min_height": null,
            "min_width": null,
            "object_fit": null,
            "object_position": null,
            "order": null,
            "overflow": null,
            "overflow_x": null,
            "overflow_y": null,
            "padding": null,
            "right": null,
            "top": null,
            "visibility": null,
            "width": null
          }
        },
        "9c8b427b0b1f4c7dae73e314cfbc1e6a": {
          "model_module": "@jupyter-widgets/base",
          "model_module_version": "1.2.0",
          "model_name": "LayoutModel",
          "state": {
            "_model_module": "@jupyter-widgets/base",
            "_model_module_version": "1.2.0",
            "_model_name": "LayoutModel",
            "_view_count": null,
            "_view_module": "@jupyter-widgets/base",
            "_view_module_version": "1.2.0",
            "_view_name": "LayoutView",
            "align_content": null,
            "align_items": null,
            "align_self": null,
            "border": null,
            "bottom": null,
            "display": null,
            "flex": null,
            "flex_flow": null,
            "grid_area": null,
            "grid_auto_columns": null,
            "grid_auto_flow": null,
            "grid_auto_rows": null,
            "grid_column": null,
            "grid_gap": null,
            "grid_row": null,
            "grid_template_areas": null,
            "grid_template_columns": null,
            "grid_template_rows": null,
            "height": null,
            "justify_content": null,
            "justify_items": null,
            "left": null,
            "margin": null,
            "max_height": null,
            "max_width": null,
            "min_height": null,
            "min_width": null,
            "object_fit": null,
            "object_position": null,
            "order": null,
            "overflow": null,
            "overflow_x": null,
            "overflow_y": null,
            "padding": null,
            "right": null,
            "top": null,
            "visibility": null,
            "width": null
          }
        },
        "b225a98ecf804760950b389096703bbe": {
          "model_module": "@jupyter-widgets/controls",
          "model_module_version": "1.5.0",
          "model_name": "ProgressStyleModel",
          "state": {
            "_model_module": "@jupyter-widgets/controls",
            "_model_module_version": "1.5.0",
            "_model_name": "ProgressStyleModel",
            "_view_count": null,
            "_view_module": "@jupyter-widgets/base",
            "_view_module_version": "1.2.0",
            "_view_name": "StyleView",
            "bar_color": null,
            "description_width": ""
          }
        },
        "bfee71092e8b4cea9f5e002a1030b15f": {
          "model_module": "@jupyter-widgets/controls",
          "model_module_version": "1.5.0",
          "model_name": "DescriptionStyleModel",
          "state": {
            "_model_module": "@jupyter-widgets/controls",
            "_model_module_version": "1.5.0",
            "_model_name": "DescriptionStyleModel",
            "_view_count": null,
            "_view_module": "@jupyter-widgets/base",
            "_view_module_version": "1.2.0",
            "_view_name": "StyleView",
            "description_width": ""
          }
        },
        "cd03d4462b2749cf9b629fae9b5d1435": {
          "model_module": "@jupyter-widgets/controls",
          "model_module_version": "1.5.0",
          "model_name": "DescriptionStyleModel",
          "state": {
            "_model_module": "@jupyter-widgets/controls",
            "_model_module_version": "1.5.0",
            "_model_name": "DescriptionStyleModel",
            "_view_count": null,
            "_view_module": "@jupyter-widgets/base",
            "_view_module_version": "1.2.0",
            "_view_name": "StyleView",
            "description_width": ""
          }
        },
        "d39eb63551a6481fabdbccf044709efe": {
          "model_module": "@jupyter-widgets/controls",
          "model_module_version": "1.5.0",
          "model_name": "FloatProgressModel",
          "state": {
            "_dom_classes": [],
            "_model_module": "@jupyter-widgets/controls",
            "_model_module_version": "1.5.0",
            "_model_name": "FloatProgressModel",
            "_view_count": null,
            "_view_module": "@jupyter-widgets/controls",
            "_view_module_version": "1.5.0",
            "_view_name": "ProgressView",
            "bar_style": "",
            "description": "",
            "description_tooltip": null,
            "layout": "IPY_MODEL_8784c0cf53514712807becaf3daba114",
            "max": 3664,
            "min": 0,
            "orientation": "horizontal",
            "style": "IPY_MODEL_b225a98ecf804760950b389096703bbe",
            "value": 925
          }
        },
        "f7ab1155edee4eb6945b7c43b0893682": {
          "model_module": "@jupyter-widgets/base",
          "model_module_version": "1.2.0",
          "model_name": "LayoutModel",
          "state": {
            "_model_module": "@jupyter-widgets/base",
            "_model_module_version": "1.2.0",
            "_model_name": "LayoutModel",
            "_view_count": null,
            "_view_module": "@jupyter-widgets/base",
            "_view_module_version": "1.2.0",
            "_view_name": "LayoutView",
            "align_content": null,
            "align_items": null,
            "align_self": null,
            "border": null,
            "bottom": null,
            "display": null,
            "flex": null,
            "flex_flow": null,
            "grid_area": null,
            "grid_auto_columns": null,
            "grid_auto_flow": null,
            "grid_auto_rows": null,
            "grid_column": null,
            "grid_gap": null,
            "grid_row": null,
            "grid_template_areas": null,
            "grid_template_columns": null,
            "grid_template_rows": null,
            "height": null,
            "justify_content": null,
            "justify_items": null,
            "left": null,
            "margin": null,
            "max_height": null,
            "max_width": null,
            "min_height": null,
            "min_width": null,
            "object_fit": null,
            "object_position": null,
            "order": null,
            "overflow": null,
            "overflow_x": null,
            "overflow_y": null,
            "padding": null,
            "right": null,
            "top": null,
            "visibility": null,
            "width": null
          }
        },
        "ff8311404c394672911b63515655dd61": {
          "model_module": "@jupyter-widgets/controls",
          "model_module_version": "1.5.0",
          "model_name": "HBoxModel",
          "state": {
            "_dom_classes": [],
            "_model_module": "@jupyter-widgets/controls",
            "_model_module_version": "1.5.0",
            "_model_name": "HBoxModel",
            "_view_count": null,
            "_view_module": "@jupyter-widgets/controls",
            "_view_module_version": "1.5.0",
            "_view_name": "HBoxView",
            "box_style": "",
            "children": [
              "IPY_MODEL_723148dda13c4a90809c23e8f656da0e",
              "IPY_MODEL_d39eb63551a6481fabdbccf044709efe",
              "IPY_MODEL_161cf98fcc9f4ffc83fff56d4325b5df"
            ],
            "layout": "IPY_MODEL_743eac1682704991b102c4df53986557"
          }
        }
      }
    }
  },
  "nbformat": 4,
  "nbformat_minor": 0
}
