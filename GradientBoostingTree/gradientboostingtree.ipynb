{
 "cells": [
  {
   "cell_type": "code",
   "execution_count": 13,
   "metadata": {},
   "outputs": [],
   "source": [
    "from sklearn.ensemble import GradientBoostingClassifier\n",
    "from sklearn.model_selection import train_test_split\n",
    "from sklearn.metrics import accuracy_score, precision_score, recall_score, f1_score, roc_auc_score, roc_curve, confusion_matrix\n",
    "import pandas as pd\n",
    "from sklearn.preprocessing import MinMaxScaler\n",
    "from sklearn.feature_extraction.text import TfidfVectorizer\n",
    "from gensim.models import Word2Vec"
   ]
  },
  {
   "cell_type": "markdown",
   "metadata": {},
   "source": [
    "TF-IDF"
   ]
  },
  {
   "cell_type": "code",
   "execution_count": 9,
   "metadata": {},
   "outputs": [],
   "source": [
    "df_tfidf = pd.read_csv('tfidf.csv')\n",
    "#Input is all the features, and output is label\n",
    "X_tfidf = df_tfidf.drop('label', axis=1)\n",
    "y_tfidf = df_tfidf['label']\n",
    "#spliting dataset in traning and test sets\n",
    "X_train_tfidf, X_test_tfidf, y_train_tfidf, y_test_tfidf = train_test_split(X_tfidf, y_tfidf, test_size=0.2, random_state=42)\n",
    "gbt_classifier = GradientBoostingClassifier(      \n",
    "    n_estimators=300,  \n",
    "    learning_rate=0.1,      \n",
    "    max_depth=5,            \n",
    "    min_samples_split=5,    \n",
    "    min_samples_leaf=2,     \n",
    "    subsample=0.8,          \n",
    "    max_features='sqrt',    \n",
    "    loss='deviance'         \n",
    ")\n",
    "gbt_classifier.fit(X_train_tfidf, y_train_tfidf)\n",
    "y_pred_gbt = gbt_classifier.predict(X_test_tfidf)"
   ]
  },
  {
   "cell_type": "markdown",
   "metadata": {},
   "source": [
    "Evaluation "
   ]
  },
  {
   "cell_type": "code",
   "execution_count": 10,
   "metadata": {},
   "outputs": [
    {
     "name": "stdout",
     "output_type": "stream",
     "text": [
      "Accuracy: 0.97\n",
      "Precision: 0.96\n",
      "Recall: 0.98\n",
      "F1-score: 0.97\n",
      "AUC-ROC: 0.99\n",
      "False Positive Rate (FPR): 4.45%\n",
      "False Negative Rate (FNR): 2.29%\n"
     ]
    }
   ],
   "source": [
    "# Evaluation metrics\n",
    "accuracy = accuracy_score(y_test_tfidf, y_pred_gbt)\n",
    "precision = precision_score(y_test_tfidf, y_pred_gbt)\n",
    "recall = recall_score(y_test_tfidf, y_pred_gbt)\n",
    "f1 = f1_score(y_test_tfidf, y_pred_gbt)\n",
    "\n",
    "# ROC-AUC\n",
    "y_pred_prob = gbt_classifier.predict_proba(X_test_tfidf)[:, 1]\n",
    "roc_auc = roc_auc_score(y_test_tfidf, y_pred_prob)\n",
    "\n",
    "# False Positive Rate (FPR) and False Negative Rate (FNR)\n",
    "tn, fp, fn, tp = confusion_matrix(y_test_tfidf, y_pred_gbt).ravel()\n",
    "\n",
    "    # False Positive Rate (FPR) as percentage\n",
    "fpr_percentage = (fp / (fp + tn)) * 100\n",
    "\n",
    "# False Negative Rate (FNR) as percentage\n",
    "fnr_percentage = (fn / (fn + tp)) * 100\n",
    "\n",
    "# Print results\n",
    "print(f\"Accuracy: {accuracy:.2f}\")\n",
    "print(f\"Precision: {precision:.2f}\")\n",
    "print(f\"Recall: {recall:.2f}\")\n",
    "print(f\"F1-score: {f1:.2f}\")\n",
    "print(f\"AUC-ROC: {roc_auc:.2f}\")\n",
    "print(f\"False Positive Rate (FPR): {fpr_percentage:.2f}%\")\n",
    "print(f\"False Negative Rate (FNR): {fnr_percentage:.2f}%\")"
   ]
  },
  {
   "cell_type": "markdown",
   "metadata": {},
   "source": [
    "WORD2VEC"
   ]
  },
  {
   "cell_type": "code",
   "execution_count": 11,
   "metadata": {},
   "outputs": [],
   "source": [
    "# Assuming df_word2vec is your DataFrame with Word2Vec vectors and labels\n",
    "df_word2vec = pd.read_csv('word2Vec.csv')\n",
    "\n",
    "# Input features are Word2Vec vectors, and output is the label\n",
    "X_word2vec = df_word2vec.drop('label', axis=1)\n",
    "y_word2vec = df_word2vec['label']\n",
    "\n",
    "# Split the dataset into training and test sets\n",
    "X_train_word2vec, X_test_word2vec, y_train_word2vec, y_test_word2vec = train_test_split(X_word2vec, y_word2vec, test_size=0.2, random_state=42)\n",
    "\n",
    "gbt_classifier = GradientBoostingClassifier(\n",
    "    n_estimators=300,  \n",
    "    learning_rate=0.1,      \n",
    "    max_depth=5,            \n",
    "    min_samples_split=5,    \n",
    "    min_samples_leaf=2,     \n",
    "    subsample=0.8,          \n",
    "    max_features='sqrt',    \n",
    "    loss='deviance' \n",
    ")\n",
    "gbt_classifier.fit(X_train_word2vec, y_train_word2vec)\n",
    "y_pred_gbt = gbt_classifier.predict(X_test_word2vec)\n"
   ]
  },
  {
   "cell_type": "markdown",
   "metadata": {},
   "source": [
    "Evaluation\n"
   ]
  },
  {
   "cell_type": "code",
   "execution_count": 12,
   "metadata": {},
   "outputs": [
    {
     "name": "stdout",
     "output_type": "stream",
     "text": [
      "Accuracy: 0.96\n",
      "Precision: 0.96\n",
      "Recall: 0.96\n",
      "F1-score: 0.96\n",
      "AUC-ROC: 0.99\n",
      "False Positive Rate (FPR): 3.94%\n",
      "False Negative Rate (FNR): 3.52%\n"
     ]
    }
   ],
   "source": [
    "# Evaluation metrics\n",
    "accuracy = accuracy_score(y_test_word2vec, y_pred_gbt)\n",
    "precision = precision_score(y_test_word2vec, y_pred_gbt)\n",
    "recall = recall_score(y_test_word2vec, y_pred_gbt)\n",
    "f1 = f1_score(y_test_word2vec, y_pred_gbt)\n",
    "\n",
    "# ROC-AUC\n",
    "y_pred_prob = gbt_classifier.predict_proba(X_test_word2vec)[:, 1]\n",
    "roc_auc = roc_auc_score(y_test_word2vec, y_pred_prob)\n",
    "\n",
    "# False Positive Rate (FPR) and False Negative Rate (FNR)\n",
    "tn, fp, fn, tp = confusion_matrix(y_test_word2vec, y_pred_gbt).ravel()\n",
    "\n",
    "    # False Positive Rate (FPR) as percentage\n",
    "fpr_percentage = (fp / (fp + tn)) * 100\n",
    "\n",
    "# False Negative Rate (FNR) as percentage\n",
    "fnr_percentage = (fn / (fn + tp)) * 100\n",
    "\n",
    "# Print results\n",
    "print(f\"Accuracy: {accuracy:.2f}\")\n",
    "print(f\"Precision: {precision:.2f}\")\n",
    "print(f\"Recall: {recall:.2f}\")\n",
    "print(f\"F1-score: {f1:.2f}\")\n",
    "print(f\"AUC-ROC: {roc_auc:.2f}\")\n",
    "print(f\"False Positive Rate (FPR): {fpr_percentage:.2f}%\")\n",
    "print(f\"False Negative Rate (FNR): {fnr_percentage:.2f}%\")"
   ]
  },
  {
   "cell_type": "markdown",
   "metadata": {},
   "source": [
    "Features\n"
   ]
  },
  {
   "cell_type": "code",
   "execution_count": 14,
   "metadata": {},
   "outputs": [
    {
     "name": "stdout",
     "output_type": "stream",
     "text": [
      "Accuracy: 0.88\n",
      "Precision: 0.87\n",
      "Recall: 0.89\n",
      "F1-score: 0.88\n",
      "AUC-ROC: 0.95\n",
      "False Positive Rate (FPR): 13.01%\n",
      "False Negative Rate (FNR): 11.27%\n"
     ]
    }
   ],
   "source": [
    "df_tfidf = pd.read_csv('custom_features.csv')\n",
    "#Input is all the features, and output is label\n",
    "X_tfidf = df_tfidf.drop('label', axis=1)\n",
    "y_tfidf = df_tfidf['label']\n",
    "#spliting dataset in traning and test sets\n",
    "X_train_tfidf, X_test_tfidf, y_train_tfidf, y_test_tfidf = train_test_split(X_tfidf, y_tfidf, test_size=0.2, random_state=42)\n",
    "\n",
    "scaler = MinMaxScaler()\n",
    "\n",
    "# Fit and transform the features for both training and test sets\n",
    "X_train_scaled = scaler.fit_transform(X_train_tfidf)\n",
    "X_test_scaled = scaler.transform(X_test_tfidf)\n",
    "\n",
    "gbt_classifier = GradientBoostingClassifier(\n",
    "    n_estimators=300,  \n",
    "    learning_rate=0.1,      \n",
    "    max_depth=5,            \n",
    "    min_samples_split=5,    \n",
    "    min_samples_leaf=2,     \n",
    "    subsample=0.8,          \n",
    "    max_features='sqrt',    \n",
    "    loss='deviance' \n",
    ")\n",
    "gbt_classifier.fit(X_train_scaled, y_train_tfidf)\n",
    "y_pred_gbt = gbt_classifier.predict(X_test_scaled)\n",
    "\n",
    "# Evaluation metrics\n",
    "accuracy = accuracy_score(y_test_tfidf, y_pred_gbt)\n",
    "precision = precision_score(y_test_tfidf, y_pred_gbt)\n",
    "recall = recall_score(y_test_tfidf, y_pred_gbt)\n",
    "f1 = f1_score(y_test_tfidf, y_pred_gbt)\n",
    "\n",
    "# ROC-AUC\n",
    "y_pred_prob = gbt_classifier.predict_proba(X_test_scaled)[:, 1]\n",
    "roc_auc = roc_auc_score(y_test_tfidf, y_pred_prob)\n",
    "\n",
    "# False Positive Rate (FPR) and False Negative Rate (FNR)\n",
    "tn, fp, fn, tp = confusion_matrix(y_test_tfidf, y_pred_gbt).ravel()\n",
    "\n",
    "    # False Positive Rate (FPR) as percentage\n",
    "fpr_percentage = (fp / (fp + tn)) * 100\n",
    "\n",
    "# False Negative Rate (FNR) as percentage\n",
    "fnr_percentage = (fn / (fn + tp)) * 100\n",
    "\n",
    "# Print results\n",
    "print(f\"Accuracy: {accuracy:.2f}\")\n",
    "print(f\"Precision: {precision:.2f}\")\n",
    "print(f\"Recall: {recall:.2f}\")\n",
    "print(f\"F1-score: {f1:.2f}\")\n",
    "print(f\"AUC-ROC: {roc_auc:.2f}\")\n",
    "print(f\"False Positive Rate (FPR): {fpr_percentage:.2f}%\")\n",
    "print(f\"False Negative Rate (FNR): {fnr_percentage:.2f}%\")"
   ]
  }
 ],
 "metadata": {
  "kernelspec": {
   "display_name": "Python 3",
   "language": "python",
   "name": "python3"
  },
  "language_info": {
   "codemirror_mode": {
    "name": "ipython",
    "version": 3
   },
   "file_extension": ".py",
   "mimetype": "text/x-python",
   "name": "python",
   "nbconvert_exporter": "python",
   "pygments_lexer": "ipython3",
   "version": "3.6.4"
  }
 },
 "nbformat": 4,
 "nbformat_minor": 2
}
